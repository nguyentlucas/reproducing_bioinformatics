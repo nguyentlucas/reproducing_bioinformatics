{
 "cells": [
  {
   "cell_type": "markdown",
   "id": "28f2bd99-7149-4119-a4ed-772caffa7fe3",
   "metadata": {},
   "source": [
    "# **Variant Calling using post-QC & mapped NGS Data**\n",
    "---"
   ]
  },
  {
   "cell_type": "markdown",
   "id": "7287bb25-76c5-4517-81c6-8a1451bf9791",
   "metadata": {},
   "source": [
    "### 1. SAM file preparation"
   ]
  },
  {
   "cell_type": "markdown",
   "id": "f214fdba-22b9-4c7a-977a-eaf4270bd7f1",
   "metadata": {},
   "source": [
    "Picking up from read mapping where we produced sequences allignment/map (sam) files, we will use the same file to call for variants. Let us take a quick look at the sam file previously produced."
   ]
  },
  {
   "cell_type": "code",
   "execution_count": 4,
   "id": "368df921-cb54-42a6-b11a-e62c53d1f870",
   "metadata": {},
   "outputs": [
    {
     "name": "stdout",
     "output_type": "stream",
     "text": [
      "@SQ\tSN:chr19\tLN:58617616\n",
      "@PG\tID:bwa\tPN:bwa\tVN:0.7.17-r1188\tCL:bwa mem -t 24 ./files/step_2_read_mapping/chr19.fa.gz ./files/step_1_ngs_quality_control/QC_by_fastp/QC_SRR075914_1.fastq.gz ./files/step_1_ngs_quality_control/QC_by_fastp/QC_SRR075914_2.fastq.gz\n",
      "SRR075914.4\t77\t*\t0\t0\t*\t*\t0\t0\tTTTNAATGTATAGTTCAATGAATTTTGACAAAGAAACACACTCATGTAACCACTACAATCAAGACATN\t7;;!7?6=3<C=C@C-B==<DBDDCC???C=@=CA6;@BD;>C########################!\tAS:i:0\tXS:i:0\n",
      "SRR075914.4\t141\t*\t0\t0\t*\t*\t0\t0\tTGGGTGGGAACACAGCCAAACCATATTAGGGGCACAAGAGAACTTTCAGGTATGATAGANATGTTNNN\tA>>:;CA=:C5DD5DEE??EEBAEED5BDA)*567=DDCA5A<<?AAA5:==C######!#####!!!\tAS:i:0\tXS:i:0\n",
      "SRR075914.5\t77\t*\t0\t0\t*\t*\t0\t0\tTTGNAGCTGGAATCTGGTCCTGCCTCCTGTCCACCATGATCATTTGCCAAGTTTTTAATGGGGTTGTN\t@AA!=CCCCAFFGFGGGDBEEC?BEDEBDDEFDEDBEDBDFA?EFDD?E?C=:AB############!\tAS:i:0\tXS:i:0\n",
      "SRR075914.5\t141\t*\t0\t0\t*\t*\t0\t0\tTATAACAATCATGCAAGAGAGCTTCTATTGTTATCATCCCCACTTCACAGAGAATAAAACTGAGACAN\tDGGFDGGGGDGGGAGD?A?:A<AA?FFFDDCD?CA>?-A(AA:A?EB-=BCBBD-CB##########!\tAS:i:0\tXS:i:0\n",
      "SRR075914.13\t77\t*\t0\t0\t*\t*\t0\t0\tGCAAAAAATATTTTCTGCATTATAGAGGATCTAAAGGAAGTGTTCTGCAAACTTCTAAAAAACTCAAA\t?FDFFFFFFDEFFFEEFDFFFBFFFFF:FFFFFFEFB5DFBEE5E5@C=:@@?@@,>;<;BBB=ADB?\tAS:i:0\tXS:i:0\n",
      "SRR075914.13\t141\t*\t0\t0\t*\t*\t0\t0\tTCCCTGGATAAAAATACTCCTTCCTGTAGTCTCTCAATTCAGAGCTCATAGTCAGTCTTTTCTCTCCT\tEEAD:EE=EEFDFE8CCEEDGGB=BFDFFDDEEABED?5:DD=:CABBEEEDEE?FFD:FC@6,CCCC\tAS:i:0\tXS:i:0\n",
      "SRR075914.18\t77\t*\t0\t0\t*\t*\t0\t0\tTGGGTCAAGAAGGGAAGTATCGCGTCTACCACAATCAATACTCCACTAATTCATTTGCTTTGAATAAG\tGGGGEGGFFGEGFGFDGDDGFFGGDEGDEEDEEDEEEGEEFEEEE?BABBCAC?:AB=B@>:<>:AAA\tAS:i:0\tXS:i:0\n",
      "SRR075914.18\t141\t*\t0\t0\t*\t*\t0\t0\tGTCAGTCTCAGAGTAGATATGGTAAGAACTTTGGACCCATGGACAGAAACGTTCCATTTGAACTATCC\tGGGDFGGGGFEDEBAEE?=EFF:F?FFFFAGG=GDC-AAA@C-CBA<?&?C>>.@#############\tAS:i:0\tXS:i:0\n"
     ]
    }
   ],
   "source": [
    "!head -n10 /home/tnguyen623/reproducing_bioinformatics/files/step_2_read_mapping/SRR075914_chr19.sam"
   ]
  }
 ],
 "metadata": {
  "kernelspec": {
   "display_name": "Python 3 (ipykernel)",
   "language": "python",
   "name": "python3"
  },
  "language_info": {
   "codemirror_mode": {
    "name": "ipython",
    "version": 3
   },
   "file_extension": ".py",
   "mimetype": "text/x-python",
   "name": "python",
   "nbconvert_exporter": "python",
   "pygments_lexer": "ipython3",
   "version": "3.9.20"
  }
 },
 "nbformat": 4,
 "nbformat_minor": 5
}
