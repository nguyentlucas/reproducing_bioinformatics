{
 "cells": [
  {
   "cell_type": "markdown",
   "id": "cc411c41-9445-425d-a42c-31ce6a7a7a95",
   "metadata": {},
   "source": [
    "# **Read mapping using post-QC NGS data**\n",
    "---"
   ]
  },
  {
   "cell_type": "markdown",
   "id": "0d1ad40d-6c2b-4c8e-90ae-eb9b9c188aee",
   "metadata": {},
   "source": [
    "### 1. Reference genome"
   ]
  },
  {
   "cell_type": "markdown",
   "id": "7a3bc06f-383a-4a77-8ed9-cdac72a47c5a",
   "metadata": {},
   "source": [
    "University of Californa Santa Cruz is a common source for reference genomes ranging  mulitple species including human. To browse their well-annotated directory, visit: https://hgdownload.soe.ucsc.edu/goldenPath/hg38/bigZips/\n",
    "\n",
    "For our purposes, we are downloading hg38 assesmbly which is the latest GRCh assembly and more commonly used assembly than the latest hs1 genome hosted on UC Santa Cruz."
   ]
  },
  {
   "cell_type": "code",
   "execution_count": 2,
   "id": "fa827b88-d746-4ad2-90cc-868c3944700c",
   "metadata": {},
   "outputs": [
    {
     "name": "stdout",
     "output_type": "stream",
     "text": [
      "--2024-10-16 19:34:13--  https://hgdownload.soe.ucsc.edu/goldenPath/hg38/bigZips/latest/hg38.fa.gz\n",
      "Resolving hgdownload.soe.ucsc.edu (hgdownload.soe.ucsc.edu)... 128.114.119.163\n",
      "Connecting to hgdownload.soe.ucsc.edu (hgdownload.soe.ucsc.edu)|128.114.119.163|:443... connected.\n",
      "HTTP request sent, awaiting response... 200 OK\n",
      "Length: 1012013082 (965M) [application/x-gzip]\n",
      "Saving to: ‘hg38.fa.gz’\n",
      "\n",
      "hg38.fa.gz          100%[===================>] 965.13M  58.5MB/s    in 17s     \n",
      "\n",
      "2024-10-16 19:34:31 (57.6 MB/s) - ‘hg38.fa.gz’ saved [1012013082/1012013082]\n",
      "\n"
     ]
    }
   ],
   "source": [
    "# download the whole genome reference genome\n",
    "!wget https://hgdownload.soe.ucsc.edu/goldenPath/hg38/bigZips/latest/hg38.fa.gz"
   ]
  },
  {
   "cell_type": "code",
   "execution_count": 3,
   "id": "0fcc546f-b0c6-4278-8fa2-2da64187178a",
   "metadata": {},
   "outputs": [],
   "source": [
    "# move file\n",
    "!mkdir ./files/step_2_read_mapping\n",
    "!mv hg38.fa.gz ./files/step_2_read_mapping"
   ]
  },
  {
   "cell_type": "code",
   "execution_count": 4,
   "id": "41efe9f5-8f46-4361-a0a1-50542ae8183c",
   "metadata": {},
   "outputs": [
    {
     "name": "stdout",
     "output_type": "stream",
     "text": [
      ">chr1\n",
      "NNNNNNNNNNNNNNNNNNNNNNNNNNNNNNNNNNNNNNNNNNNNNNNNNN\n",
      "NNNNNNNNNNNNNNNNNNNNNNNNNNNNNNNNNNNNNNNNNNNNNNNNNN\n",
      "NNNNNNNNNNNNNNNNNNNNNNNNNNNNNNNNNNNNNNNNNNNNNNNNNN\n",
      "NNNNNNNNNNNNNNNNNNNNNNNNNNNNNNNNNNNNNNNNNNNNNNNNNN\n",
      "NNNNNNNNNNNNNNNNNNNNNNNNNNNNNNNNNNNNNNNNNNNNNNNNNN\n",
      "NNNNNNNNNNNNNNNNNNNNNNNNNNNNNNNNNNNNNNNNNNNNNNNNNN\n",
      "NNNNNNNNNNNNNNNNNNNNNNNNNNNNNNNNNNNNNNNNNNNNNNNNNN\n",
      "NNNNNNNNNNNNNNNNNNNNNNNNNNNNNNNNNNNNNNNNNNNNNNNNNN\n",
      "NNNNNNNNNNNNNNNNNNNNNNNNNNNNNNNNNNNNNNNNNNNNNNNNNN\n",
      "\n",
      "gzip: stdout: Broken pipe\n"
     ]
    }
   ],
   "source": [
    "# view the reference genome\n",
    "!zcat ./files/step_2_read_mapping/hg38.fa.gz| head -n10"
   ]
  },
  {
   "cell_type": "markdown",
   "id": "9d15a702-3109-4136-850c-6c660aad38eb",
   "metadata": {},
   "source": [
    "A quick glance at the assembly shows that it does not only include the canonical nucleotide ATGC, but also other symbols. The following explanation is given on UCSC website:\n",
    "> hg38.fa.gz - \"Soft-masked\" assembly sequence in one file.\n",
    "    Repeats from RepeatMasker and Tandem Repeats Finder (with period of 12 or\n",
    "    less) are shown in lower case; non-repeating sequence is shown in upper\n",
    "    case. (again, the most current version of this file is latest/hg38.fa.gz)\n",
    "\n",
    "Thus, we can infer that the N is probably gaps of unknown nucleotides and not hard-masked repeats such as the case in another file:\n",
    "> hg38.fa.masked.gz - \"Hard-masked\" assembly sequence in one file.\n",
    "    Repeats are masked by capital Ns; non-repeating sequence is shown in\n",
    "    upper case.\n",
    "\n",
    "Let's look at another section of the sequence:"
   ]
  },
  {
   "cell_type": "code",
   "execution_count": 8,
   "id": "08b5f8c6-efa5-40bb-aef4-18d51e8c00c8",
   "metadata": {},
   "outputs": [
    {
     "name": "stdout",
     "output_type": "stream",
     "text": [
      "ggtcttaaactcctgacctcatgatccgcactcggcctcccaaagtgctg\n",
      "ggattacaggcgtgagccaccgtgcccagccATAGATAGATATTATGTCT\n",
      "TCTATTCACCCTGGTGGGGTTGGTTCCAAACAGCTCtttttttttttttt\n",
      "tttttttttttgagatggagttttgccttgtagcccaggctggagtgcag\n",
      "tggcgcaatctctggtcactgcaacctccgcctgccgggttcaagcgatt\n",
      "ctccttcctcagccttcccaagtagctgggattataggcatgcgccacca\n",
      "agcccggctaattttgtatttttagtagagatggggtttcaccaggttgg\n",
      "tcaggctggtctcgaactcccgacgtcaggtgatccacccacctcggcct\n",
      "cccgaagtgccgggattacaggcgtgagccaccgtgcccagccttttttt\n",
      "ttttttctttttgagacagagtcttgctctgttgcccaggctggagtcgt\n",
      "\n",
      "gzip: stdout: Broken pipe\n"
     ]
    }
   ],
   "source": [
    "!zcat ./files/step_2_read_mapping/hg38.fa.gz| head -n30000 | tail"
   ]
  },
  {
   "cell_type": "markdown",
   "id": "9e67fe90-c44e-4087-afe3-b305e1644ff2",
   "metadata": {},
   "source": [
    "Here, we can see the upper-case and lower-case nucleotides representing non-repeating sequence and soft-masked repeating sequence repsectively as noted in the explanation above."
   ]
  },
  {
   "cell_type": "markdown",
   "id": "ac0b76d6-0bb1-4496-886e-f9c55019eff8",
   "metadata": {},
   "source": [
    "---\n",
    "\n",
    "### 2. Tools for read mapping"
   ]
  },
  {
   "cell_type": "markdown",
   "id": "69b9372d-9935-4ce3-9ca5-f6ca6025f86b",
   "metadata": {},
   "source": [
    "There are multiple tools available for read mapping, and a comparison of some common tools can be found in this study https://doi.org/10.3390/plants9040439\n",
    "\n",
    "In this document, we will use two (2) tools:\n",
    "- bwa-mem https://github.com/lh3/bwa\n",
    "- minimap2 https://github.com/lh3/minimap2\n",
    "\n",
    "Note that minimap2 is created by the same people who made bwa-mem but intended for PacBio and NanoPore (long) read mapping. Also, bew-mem2 is in beta for an upgraded version of the current bwa-mem.\n",
    "\n",
    "bwa-mem can be installed with conda install:"
   ]
  },
  {
   "cell_type": "code",
   "execution_count": 3,
   "id": "0ef167d6-48c9-4ee1-91e6-1e4fdb962e77",
   "metadata": {},
   "outputs": [
    {
     "name": "stdout",
     "output_type": "stream",
     "text": [
      "Retrieving notices: ...working... done\n",
      "Collecting package metadata (current_repodata.json): done\n",
      "Solving environment: done\n",
      "\n",
      "\n",
      "==> WARNING: A newer version of conda exists. <==\n",
      "  current version: 23.3.1\n",
      "  latest version: 24.9.2\n",
      "\n",
      "Please update conda by running\n",
      "\n",
      "    $ conda update -n base -c defaults conda\n",
      "\n",
      "Or to minimize the number of packages updated during conda update use\n",
      "\n",
      "     conda install conda=24.9.2\n",
      "\n",
      "\n",
      "\n",
      "## Package Plan ##\n",
      "\n",
      "  environment location: /home/tnguyen623/anaconda3/envs/rep_binf\n",
      "\n",
      "  added / updated specs:\n",
      "    - bwa\n",
      "\n",
      "\n",
      "The following packages will be downloaded:\n",
      "\n",
      "    package                    |            build\n",
      "    ---------------------------|-----------------\n",
      "    bwa-0.7.17                 |       h5bf99c6_8         608 KB  bioconda\n",
      "    ------------------------------------------------------------\n",
      "                                           Total:         608 KB\n",
      "\n",
      "The following NEW packages will be INSTALLED:\n",
      "\n",
      "  bwa                bioconda/linux-64::bwa-0.7.17-h5bf99c6_8 \n",
      "\n",
      "\n",
      "\n",
      "Downloading and Extracting Packages\n",
      "                                                                                \n",
      "Preparing transaction: done\n",
      "Verifying transaction: done\n",
      "Executing transaction: done\n"
     ]
    }
   ],
   "source": [
    "!conda install -c bioconda bwa -y"
   ]
  },
  {
   "cell_type": "code",
   "execution_count": 4,
   "id": "4913199f-62ff-4ee5-8490-c68aeed54821",
   "metadata": {},
   "outputs": [
    {
     "name": "stdout",
     "output_type": "stream",
     "text": [
      "~/anaconda3/envs/rep_binf/bin/bwa\n"
     ]
    }
   ],
   "source": [
    "# checking the download finished correctly and that we have access to bwa-mem\n",
    "!which bwa"
   ]
  },
  {
   "cell_type": "code",
   "execution_count": 6,
   "id": "baef97d7-fd91-41e9-981e-dde533eb856c",
   "metadata": {},
   "outputs": [
    {
     "name": "stdout",
     "output_type": "stream",
     "text": [
      "\n",
      "Program: bwa (alignment via Burrows-Wheeler transformation)\n",
      "Version: 0.7.17-r1188\n",
      "Contact: Heng Li <lh3@sanger.ac.uk>\n",
      "\n",
      "Usage:   bwa <command> [options]\n",
      "\n",
      "Command: index         index sequences in the FASTA format\n",
      "         mem           BWA-MEM algorithm\n",
      "         fastmap       identify super-maximal exact matches\n",
      "         pemerge       merge overlapping paired ends (EXPERIMENTAL)\n",
      "         aln           gapped/ungapped alignment\n",
      "         samse         generate alignment (single ended)\n",
      "         sampe         generate alignment (paired ended)\n",
      "         bwasw         BWA-SW for long queries\n",
      "\n",
      "         shm           manage indices in shared memory\n",
      "         fa2pac        convert FASTA to PAC format\n",
      "         pac2bwt       generate BWT from PAC\n",
      "         pac2bwtgen    alternative algorithm for generating BWT\n",
      "         bwtupdate     update .bwt to the new format\n",
      "         bwt2sa        generate SA from BWT and Occ\n",
      "\n",
      "Note: To use BWA, you need to first index the genome with `bwa index'.\n",
      "      There are three alignment algorithms in BWA: `mem', `bwasw', and\n",
      "      `aln/samse/sampe'. If you are not sure which to use, try `bwa mem'\n",
      "      first. Please `man ./bwa.1' for the manual.\n",
      "\n"
     ]
    }
   ],
   "source": [
    "!bwa"
   ]
  },
  {
   "cell_type": "markdown",
   "id": "ca72c339-e1c2-4559-ad78-bc2e6463c270",
   "metadata": {},
   "source": [
    "minimap2 can be installed in the same way:"
   ]
  },
  {
   "cell_type": "code",
   "execution_count": 7,
   "id": "2467b423-82ca-4327-8ca3-409bf811b5c3",
   "metadata": {},
   "outputs": [
    {
     "name": "stdout",
     "output_type": "stream",
     "text": [
      "Collecting package metadata (current_repodata.json): done\n",
      "Solving environment: done\n",
      "\n",
      "\n",
      "==> WARNING: A newer version of conda exists. <==\n",
      "  current version: 23.3.1\n",
      "  latest version: 24.9.2\n",
      "\n",
      "Please update conda by running\n",
      "\n",
      "    $ conda update -n base -c defaults conda\n",
      "\n",
      "Or to minimize the number of packages updated during conda update use\n",
      "\n",
      "     conda install conda=24.9.2\n",
      "\n",
      "\n",
      "\n",
      "## Package Plan ##\n",
      "\n",
      "  environment location: /home/tnguyen623/anaconda3/envs/rep_binf\n",
      "\n",
      "  added / updated specs:\n",
      "    - minimap2\n",
      "\n",
      "\n",
      "The following packages will be downloaded:\n",
      "\n",
      "    package                    |            build\n",
      "    ---------------------------|-----------------\n",
      "    minimap2-2.17              |       h8b12597_1         2.0 MB  bioconda\n",
      "    ------------------------------------------------------------\n",
      "                                           Total:         2.0 MB\n",
      "\n",
      "The following NEW packages will be INSTALLED:\n",
      "\n",
      "  minimap2           bioconda/linux-64::minimap2-2.17-h8b12597_1 \n",
      "\n",
      "\n",
      "\n",
      "Downloading and Extracting Packages\n",
      "                                                                                \n",
      "Preparing transaction: done\n",
      "Verifying transaction: done\n",
      "Executing transaction: done\n"
     ]
    }
   ],
   "source": [
    "!conda install -c bioconda minimap2 -y"
   ]
  },
  {
   "cell_type": "code",
   "execution_count": 9,
   "id": "e8201902-5e52-4399-8407-25fbc10f8292",
   "metadata": {},
   "outputs": [
    {
     "name": "stdout",
     "output_type": "stream",
     "text": [
      "~/anaconda3/envs/rep_binf/bin/minimap2\n"
     ]
    }
   ],
   "source": [
    "!which minimap2"
   ]
  },
  {
   "cell_type": "code",
   "execution_count": 10,
   "id": "dcbe26f9-3329-4f7f-8cb9-ff5006308f0e",
   "metadata": {},
   "outputs": [
    {
     "name": "stdout",
     "output_type": "stream",
     "text": [
      "Usage: minimap2 [options] <target.fa>|<target.idx> [query.fa] [...]\n",
      "Options:\n",
      "  Indexing:\n",
      "    -H           use homopolymer-compressed k-mer (preferrable for PacBio)\n",
      "    -k INT       k-mer size (no larger than 28) [15]\n",
      "    -w INT       minimizer window size [10]\n",
      "    -I NUM       split index for every ~NUM input bases [4G]\n",
      "    -d FILE      dump index to FILE []\n",
      "  Mapping:\n",
      "    -f FLOAT     filter out top FLOAT fraction of repetitive minimizers [0.0002]\n",
      "    -g NUM       stop chain enlongation if there are no minimizers in INT-bp [5000]\n",
      "    -G NUM       max intron length (effective with -xsplice; changing -r) [200k]\n",
      "    -F NUM       max fragment length (effective with -xsr or in the fragment mode) [800]\n",
      "    -r NUM       bandwidth used in chaining and DP-based alignment [500]\n",
      "    -n INT       minimal number of minimizers on a chain [3]\n",
      "    -m INT       minimal chaining score (matching bases minus log gap penalty) [40]\n",
      "    -X           skip self and dual mappings (for the all-vs-all mode)\n",
      "    -p FLOAT     min secondary-to-primary score ratio [0.8]\n",
      "    -N INT       retain at most INT secondary alignments [5]\n",
      "  Alignment:\n",
      "    -A INT       matching score [2]\n",
      "    -B INT       mismatch penalty [4]\n",
      "    -O INT[,INT] gap open penalty [4,24]\n",
      "    -E INT[,INT] gap extension penalty; a k-long gap costs min{O1+k*E1,O2+k*E2} [2,1]\n",
      "    -z INT[,INT] Z-drop score and inversion Z-drop score [400,200]\n",
      "    -s INT       minimal peak DP alignment score [80]\n",
      "    -u CHAR      how to find GT-AG. f:transcript strand, b:both strands, n:don't match GT-AG [n]\n",
      "  Input/Output:\n",
      "    -a           output in the SAM format (PAF by default)\n",
      "    -o FILE      output alignments to FILE [stdout]\n",
      "    -L           write CIGAR with >65535 ops at the CG tag\n",
      "    -R STR       SAM read group line in a format like '@RG\\tID:foo\\tSM:bar' []\n",
      "    -c           output CIGAR in PAF\n",
      "    --cs[=STR]   output the cs tag; STR is 'short' (if absent) or 'long' [none]\n",
      "    --MD         output the MD tag\n",
      "    --eqx        write =/X CIGAR operators\n",
      "    -Y           use soft clipping for supplementary alignments\n",
      "    -t INT       number of threads [3]\n",
      "    -K NUM       minibatch size for mapping [500M]\n",
      "    --version    show version number\n",
      "  Preset:\n",
      "    -x STR       preset (always applied before other options; see minimap2.1 for details) []\n",
      "                 - map-pb/map-ont: PacBio/Nanopore vs reference mapping\n",
      "                 - ava-pb/ava-ont: PacBio/Nanopore read overlap\n",
      "                 - asm5/asm10/asm20: asm-to-ref mapping, for ~0.1/1/5% sequence divergence\n",
      "                 - splice: long-read spliced alignment\n",
      "                 - sr: genomic short-read mapping\n",
      "\n",
      "See `man ./minimap2.1' for detailed description of these and other advanced command-line options.\n"
     ]
    }
   ],
   "source": [
    "!minimap2"
   ]
  },
  {
   "cell_type": "markdown",
   "id": "f081ac76-5649-4573-9333-5984025048f7",
   "metadata": {},
   "source": [
    "---\n",
    "\n",
    "### 3. Read mapping with bwa-mem"
   ]
  },
  {
   "cell_type": "markdown",
   "id": "cdb75dce-a74f-41e9-a28f-e228cf5197c7",
   "metadata": {},
   "source": [
    "The bwa-mem quick-start guide tells us that it requires the indexing of the reference genome. This makes alligning faster and save memory when doing so by creating a searchable structure of the original reference genome."
   ]
  },
  {
   "cell_type": "code",
   "execution_count": 13,
   "id": "acf7f76a-fd20-4665-a8d3-2afc6c3539f7",
   "metadata": {},
   "outputs": [
    {
     "name": "stdout",
     "output_type": "stream",
     "text": [
      "\n",
      "Usage:   bwa index [options] <in.fasta>\n",
      "\n",
      "Options: -a STR    BWT construction algorithm: bwtsw, is or rb2 [auto]\n",
      "         -p STR    prefix of the index [same as fasta name]\n",
      "         -b INT    block size for the bwtsw algorithm (effective with -a bwtsw) [10000000]\n",
      "         -6        index files named as <in.fasta>.64.* instead of <in.fasta>.* \n",
      "\n",
      "Warning: `-a bwtsw' does not work for short genomes, while `-a is' and\n",
      "         `-a div' do not work not for long genomes.\n",
      "\n"
     ]
    }
   ],
   "source": [
    "# index the reference genome\n",
    "!bwa index"
   ]
  },
  {
   "cell_type": "code",
   "execution_count": 15,
   "id": "4689f7a6-7a9b-4196-8487-d18e92f4d216",
   "metadata": {},
   "outputs": [
    {
     "name": "stdout",
     "output_type": "stream",
     "text": [
      "[bwa_index] Pack FASTA... 31.59 sec\n",
      "[bwa_index] Construct BWT for the packed sequence...\n",
      "^C\n"
     ]
    }
   ],
   "source": [
    "!bwa index -a rb2 ./files/step_2_read_mapping/hg38.fa.gz"
   ]
  },
  {
   "cell_type": "markdown",
   "id": "2d588c4a-88c3-47a3-af44-a8e975e2c3a8",
   "metadata": {},
   "source": [
    "**At this point**, the whole genome reference genome is too big for a demonstration. Therefore, we will pick a small chromosome to use as a reference genome for this demonstration."
   ]
  },
  {
   "cell_type": "code",
   "execution_count": 16,
   "id": "dbdba685-1888-4434-a9db-2392925379ae",
   "metadata": {},
   "outputs": [
    {
     "name": "stdout",
     "output_type": "stream",
     "text": [
      "--2024-10-18 14:58:14--  https://hgdownload.soe.ucsc.edu/goldenPath/hg38/chromosomes/chr19.fa.gz\n",
      "Resolving hgdownload.soe.ucsc.edu (hgdownload.soe.ucsc.edu)... 128.114.119.163\n",
      "Connecting to hgdownload.soe.ucsc.edu (hgdownload.soe.ucsc.edu)|128.114.119.163|:443... connected.\n",
      "HTTP request sent, awaiting response... 200 OK\n",
      "Length: 17916986 (17M) [application/x-gzip]\n",
      "Saving to: ‘chr19.fa.gz’\n",
      "\n",
      "chr19.fa.gz         100%[===================>]  17.09M  25.0MB/s    in 0.7s    \n",
      "\n",
      "2024-10-18 14:58:15 (25.0 MB/s) - ‘chr19.fa.gz’ saved [17916986/17916986]\n",
      "\n"
     ]
    }
   ],
   "source": [
    "# download the reference chromosome 19\n",
    "!wget https://hgdownload.soe.ucsc.edu/goldenPath/hg38/chromosomes/chr19.fa.gz\n",
    "# move the file\n",
    "!mv chr19.fa.gz ./files/step_2_read_mapping"
   ]
  },
  {
   "cell_type": "code",
   "execution_count": 17,
   "id": "69636afc-078d-4e85-955e-57d7c040171b",
   "metadata": {},
   "outputs": [
    {
     "name": "stdout",
     "output_type": "stream",
     "text": [
      "[bwa_index] Pack FASTA... 0.58 sec\n",
      "[bwa_index] Construct BWT for the packed sequence...\n",
      "[bwa_index] 47.12 seconds elapse.\n",
      "[bwa_index] Update BWT... 0.26 sec\n",
      "[bwa_index] Pack forward-only FASTA... 0.41 sec\n",
      "[bwa_index] Construct SA from BWT and Occ... 11.60 sec\n",
      "[main] Version: 0.7.17-r1188\n",
      "[main] CMD: bwa index -a rb2 ./files/step_2_read_mapping/chr19.fa.gz\n",
      "[main] Real time: 60.858 sec; CPU: 59.984 sec\n"
     ]
    }
   ],
   "source": [
    "# index the chromosome 19 reference\n",
    "!bwa index -a rb2 ./files/step_2_read_mapping/chr19.fa.gz"
   ]
  },
  {
   "cell_type": "code",
   "execution_count": 19,
   "id": "e3a97974-9c48-4a87-93f7-b11049a33399",
   "metadata": {},
   "outputs": [
    {
     "name": "stdout",
     "output_type": "stream",
     "text": [
      "\n",
      "Usage: bwa mem [options] <idxbase> <in1.fq> [in2.fq]\n",
      "\n",
      "Algorithm options:\n",
      "\n",
      "       -t INT        number of threads [1]\n",
      "       -k INT        minimum seed length [19]\n",
      "       -w INT        band width for banded alignment [100]\n",
      "       -d INT        off-diagonal X-dropoff [100]\n",
      "       -r FLOAT      look for internal seeds inside a seed longer than {-k} * FLOAT [1.5]\n",
      "       -y INT        seed occurrence for the 3rd round seeding [20]\n",
      "       -c INT        skip seeds with more than INT occurrences [500]\n",
      "       -D FLOAT      drop chains shorter than FLOAT fraction of the longest overlapping chain [0.50]\n",
      "       -W INT        discard a chain if seeded bases shorter than INT [0]\n",
      "       -m INT        perform at most INT rounds of mate rescues for each read [50]\n",
      "       -S            skip mate rescue\n",
      "       -P            skip pairing; mate rescue performed unless -S also in use\n",
      "\n",
      "Scoring options:\n",
      "\n",
      "       -A INT        score for a sequence match, which scales options -TdBOELU unless overridden [1]\n",
      "       -B INT        penalty for a mismatch [4]\n",
      "       -O INT[,INT]  gap open penalties for deletions and insertions [6,6]\n",
      "       -E INT[,INT]  gap extension penalty; a gap of size k cost '{-O} + {-E}*k' [1,1]\n",
      "       -L INT[,INT]  penalty for 5'- and 3'-end clipping [5,5]\n",
      "       -U INT        penalty for an unpaired read pair [17]\n",
      "\n",
      "       -x STR        read type. Setting -x changes multiple parameters unless overridden [null]\n",
      "                     pacbio: -k17 -W40 -r10 -A1 -B1 -O1 -E1 -L0  (PacBio reads to ref)\n",
      "                     ont2d: -k14 -W20 -r10 -A1 -B1 -O1 -E1 -L0  (Oxford Nanopore 2D-reads to ref)\n",
      "                     intractg: -B9 -O16 -L5  (intra-species contigs to ref)\n",
      "\n",
      "Input/output options:\n",
      "\n",
      "       -p            smart pairing (ignoring in2.fq)\n",
      "       -R STR        read group header line such as '@RG\\tID:foo\\tSM:bar' [null]\n",
      "       -H STR/FILE   insert STR to header if it starts with @; or insert lines in FILE [null]\n",
      "       -o FILE       sam file to output results to [stdout]\n",
      "       -j            treat ALT contigs as part of the primary assembly (i.e. ignore <idxbase>.alt file)\n",
      "       -5            for split alignment, take the alignment with the smallest coordinate as primary\n",
      "       -q            don't modify mapQ of supplementary alignments\n",
      "       -K INT        process INT input bases in each batch regardless of nThreads (for reproducibility) []\n",
      "\n",
      "       -v INT        verbosity level: 1=error, 2=warning, 3=message, 4+=debugging [3]\n",
      "       -T INT        minimum score to output [30]\n",
      "       -h INT[,INT]  if there are <INT hits with score >80% of the max score, output all in XA [5,200]\n",
      "       -a            output all alignments for SE or unpaired PE\n",
      "       -C            append FASTA/FASTQ comment to SAM output\n",
      "       -V            output the reference FASTA header in the XR tag\n",
      "       -Y            use soft clipping for supplementary alignments\n",
      "       -M            mark shorter split hits as secondary\n",
      "\n",
      "       -I FLOAT[,FLOAT[,INT[,INT]]]\n",
      "                     specify the mean, standard deviation (10% of the mean if absent), max\n",
      "                     (4 sigma from the mean if absent) and min of the insert size distribution.\n",
      "                     FR orientation only. [inferred]\n",
      "\n",
      "Note: Please read the man page for detailed description of the command line and options.\n",
      "\n"
     ]
    }
   ],
   "source": [
    "# mapping with bwa\n",
    "!bwa mem"
   ]
  },
  {
   "cell_type": "code",
   "execution_count": 20,
   "id": "d84b86ec-410c-4cc8-9ac9-27e622697e86",
   "metadata": {},
   "outputs": [
    {
     "name": "stdout",
     "output_type": "stream",
     "text": [
      "[M::bwa_idx_load_from_disk] read 0 ALT contigs\n",
      "[M::process] read 1291600 sequences (87742908 bp)...\n",
      "[M::mem_pestat] # candidate unique pairs for (FF, FR, RF, RR): (1, 20329, 12, 1)\n",
      "[M::mem_pestat] skip orientation FF as there are not enough pairs\n",
      "[M::mem_pestat] analyzing insert size distribution for orientation FR...\n",
      "[M::mem_pestat] (25, 50, 75) percentile: (107, 141, 186)\n",
      "[M::mem_pestat] low and high boundaries for computing mean and std.dev: (1, 344)\n",
      "[M::mem_pestat] mean and std.dev: (148.24, 57.46)\n",
      "[M::mem_pestat] low and high boundaries for proper pairs: (1, 423)\n",
      "[M::mem_pestat] analyzing insert size distribution for orientation RF...\n",
      "[M::mem_pestat] (25, 50, 75) percentile: (136, 3552, 7067)\n",
      "[M::mem_pestat] low and high boundaries for computing mean and std.dev: (1, 20929)\n",
      "[M::mem_pestat] mean and std.dev: (3298.75, 3286.77)\n",
      "[M::mem_pestat] low and high boundaries for proper pairs: (1, 27860)\n",
      "[M::mem_pestat] skip orientation RR as there are not enough pairs\n",
      "[M::mem_pestat] skip orientation RF\n",
      "[M::mem_process_seqs] Processed 1291600 reads in 176.219 CPU sec, 7.635 real sec\n",
      "[main] Version: 0.7.17-r1188\n",
      "[main] CMD: bwa mem -t 24 ./files/step_2_read_mapping/chr19.fa.gz ./files/step_1_ngs_quality_control/QC_by_fastp/QC_SRR075914_1.fastq.gz ./files/step_1_ngs_quality_control/QC_by_fastp/QC_SRR075914_2.fastq.gz\n",
      "[main] Real time: 10.488 sec; CPU: 178.596 sec\n"
     ]
    }
   ],
   "source": [
    "!bwa mem -t 24 ./files/step_2_read_mapping/chr19.fa.gz ./files/step_1_ngs_quality_control/QC_by_fastp/QC_SRR075914_1.fastq.gz ./files/step_1_ngs_quality_control/QC_by_fastp/QC_SRR075914_2.fastq.gz > ./files/step_2_read_mapping/SRR075914_chr19.sam"
   ]
  },
  {
   "cell_type": "markdown",
   "id": "b1b164b9-8f0d-4fdc-9c4f-cec36431f47b",
   "metadata": {},
   "source": [
    "Checking the output sequence alignment/map format (SAM) file:"
   ]
  },
  {
   "cell_type": "code",
   "execution_count": 23,
   "id": "160f1d28-84ac-4cd6-a648-8434aa2d3c13",
   "metadata": {},
   "outputs": [
    {
     "name": "stdout",
     "output_type": "stream",
     "text": [
      "@SQ\tSN:chr19\tLN:58617616\n",
      "@PG\tID:bwa\tPN:bwa\tVN:0.7.17-r1188\tCL:bwa mem -t 24 ./files/step_2_read_mapping/chr19.fa.gz ./files/step_1_ngs_quality_control/QC_by_fastp/QC_SRR075914_1.fastq.gz ./files/step_1_ngs_quality_control/QC_by_fastp/QC_SRR075914_2.fastq.gz\n",
      "SRR075914.4\t77\t*\t0\t0\t*\t*\t0\t0\tTTTNAATGTATAGTTCAATGAATTTTGACAAAGAAACACACTCATGTAACCACTACAATCAAGACATN\t7;;!7?6=3<C=C@C-B==<DBDDCC???C=@=CA6;@BD;>C########################!\tAS:i:0\tXS:i:0\n",
      "SRR075914.4\t141\t*\t0\t0\t*\t*\t0\t0\tTGGGTGGGAACACAGCCAAACCATATTAGGGGCACAAGAGAACTTTCAGGTATGATAGANATGTTNNN\tA>>:;CA=:C5DD5DEE??EEBAEED5BDA)*567=DDCA5A<<?AAA5:==C######!#####!!!\tAS:i:0\tXS:i:0\n",
      "SRR075914.5\t77\t*\t0\t0\t*\t*\t0\t0\tTTGNAGCTGGAATCTGGTCCTGCCTCCTGTCCACCATGATCATTTGCCAAGTTTTTAATGGGGTTGTN\t@AA!=CCCCAFFGFGGGDBEEC?BEDEBDDEFDEDBEDBDFA?EFDD?E?C=:AB############!\tAS:i:0\tXS:i:0\n",
      "SRR075914.5\t141\t*\t0\t0\t*\t*\t0\t0\tTATAACAATCATGCAAGAGAGCTTCTATTGTTATCATCCCCACTTCACAGAGAATAAAACTGAGACAN\tDGGFDGGGGDGGGAGD?A?:A<AA?FFFDDCD?CA>?-A(AA:A?EB-=BCBBD-CB##########!\tAS:i:0\tXS:i:0\n",
      "SRR075914.13\t77\t*\t0\t0\t*\t*\t0\t0\tGCAAAAAATATTTTCTGCATTATAGAGGATCTAAAGGAAGTGTTCTGCAAACTTCTAAAAAACTCAAA\t?FDFFFFFFDEFFFEEFDFFFBFFFFF:FFFFFFEFB5DFBEE5E5@C=:@@?@@,>;<;BBB=ADB?\tAS:i:0\tXS:i:0\n",
      "SRR075914.13\t141\t*\t0\t0\t*\t*\t0\t0\tTCCCTGGATAAAAATACTCCTTCCTGTAGTCTCTCAATTCAGAGCTCATAGTCAGTCTTTTCTCTCCT\tEEAD:EE=EEFDFE8CCEEDGGB=BFDFFDDEEABED?5:DD=:CABBEEEDEE?FFD:FC@6,CCCC\tAS:i:0\tXS:i:0\n",
      "SRR075914.18\t77\t*\t0\t0\t*\t*\t0\t0\tTGGGTCAAGAAGGGAAGTATCGCGTCTACCACAATCAATACTCCACTAATTCATTTGCTTTGAATAAG\tGGGGEGGFFGEGFGFDGDDGFFGGDEGDEEDEEDEEEGEEFEEEE?BABBCAC?:AB=B@>:<>:AAA\tAS:i:0\tXS:i:0\n",
      "SRR075914.18\t141\t*\t0\t0\t*\t*\t0\t0\tGTCAGTCTCAGAGTAGATATGGTAAGAACTTTGGACCCATGGACAGAAACGTTCCATTTGAACTATCC\tGGGDFGGGGFEDEBAEE?=EFF:F?FFFFAGG=GDC-AAA@C-CBA<?&?C>>.@#############\tAS:i:0\tXS:i:0\n"
     ]
    }
   ],
   "source": [
    "!head ./files/step_2_read_mapping/SRR075914_chr19.sam"
   ]
  },
  {
   "cell_type": "code",
   "execution_count": 22,
   "id": "8e28c0cf-4312-43b3-b143-cdad879da24f",
   "metadata": {},
   "outputs": [
    {
     "name": "stdout",
     "output_type": "stream",
     "text": [
      "1292514 ./files/step_2_read_mapping/SRR075914_chr19.sam\n"
     ]
    }
   ],
   "source": [
    "!wc -l ./files/step_2_read_mapping/SRR075914_chr19.sam"
   ]
  },
  {
   "cell_type": "markdown",
   "id": "33bbb96b-0a25-48cc-93b8-d5a64c330e19",
   "metadata": {},
   "source": [
    "The output of the read mapping process is a sequence alignment/map format (SAM) file. This type of file compactly stores a sequence of multiple reads aligned to a reference sequence."
   ]
  },
  {
   "cell_type": "markdown",
   "id": "1a9c2d61-95c5-48c8-8af8-f3c1c3806cf1",
   "metadata": {},
   "source": [
    "---\n",
    "\n",
    "### 3. Read mapping with minimap2"
   ]
  },
  {
   "cell_type": "markdown",
   "id": "f2cd485e-6a7a-46dd-822d-51b46a8919f0",
   "metadata": {},
   "source": [
    "Indexing of the reference genome is also required for minimap2, and we will do this using minimap2 for the chr19 reference chromosome:"
   ]
  },
  {
   "cell_type": "code",
   "execution_count": 1,
   "id": "0f1bfe68-c338-4cf3-ac5f-55562c219e15",
   "metadata": {},
   "outputs": [
    {
     "name": "stdout",
     "output_type": "stream",
     "text": [
      "Usage: minimap2 [options] <target.fa>|<target.idx> [query.fa] [...]\n",
      "Options:\n",
      "  Indexing:\n",
      "    -H           use homopolymer-compressed k-mer (preferrable for PacBio)\n",
      "    -k INT       k-mer size (no larger than 28) [15]\n",
      "    -w INT       minimizer window size [10]\n",
      "    -I NUM       split index for every ~NUM input bases [4G]\n",
      "    -d FILE      dump index to FILE []\n",
      "  Mapping:\n",
      "    -f FLOAT     filter out top FLOAT fraction of repetitive minimizers [0.0002]\n",
      "    -g NUM       stop chain enlongation if there are no minimizers in INT-bp [5000]\n",
      "    -G NUM       max intron length (effective with -xsplice; changing -r) [200k]\n",
      "    -F NUM       max fragment length (effective with -xsr or in the fragment mode) [800]\n",
      "    -r NUM       bandwidth used in chaining and DP-based alignment [500]\n",
      "    -n INT       minimal number of minimizers on a chain [3]\n",
      "    -m INT       minimal chaining score (matching bases minus log gap penalty) [40]\n",
      "    -X           skip self and dual mappings (for the all-vs-all mode)\n",
      "    -p FLOAT     min secondary-to-primary score ratio [0.8]\n",
      "    -N INT       retain at most INT secondary alignments [5]\n",
      "  Alignment:\n",
      "    -A INT       matching score [2]\n",
      "    -B INT       mismatch penalty [4]\n",
      "    -O INT[,INT] gap open penalty [4,24]\n",
      "    -E INT[,INT] gap extension penalty; a k-long gap costs min{O1+k*E1,O2+k*E2} [2,1]\n",
      "    -z INT[,INT] Z-drop score and inversion Z-drop score [400,200]\n",
      "    -s INT       minimal peak DP alignment score [80]\n",
      "    -u CHAR      how to find GT-AG. f:transcript strand, b:both strands, n:don't match GT-AG [n]\n",
      "  Input/Output:\n",
      "    -a           output in the SAM format (PAF by default)\n",
      "    -o FILE      output alignments to FILE [stdout]\n",
      "    -L           write CIGAR with >65535 ops at the CG tag\n",
      "    -R STR       SAM read group line in a format like '@RG\\tID:foo\\tSM:bar' []\n",
      "    -c           output CIGAR in PAF\n",
      "    --cs[=STR]   output the cs tag; STR is 'short' (if absent) or 'long' [none]\n",
      "    --MD         output the MD tag\n",
      "    --eqx        write =/X CIGAR operators\n",
      "    -Y           use soft clipping for supplementary alignments\n",
      "    -t INT       number of threads [3]\n",
      "    -K NUM       minibatch size for mapping [500M]\n",
      "    --version    show version number\n",
      "  Preset:\n",
      "    -x STR       preset (always applied before other options; see minimap2.1 for details) []\n",
      "                 - map-pb/map-ont: PacBio/Nanopore vs reference mapping\n",
      "                 - ava-pb/ava-ont: PacBio/Nanopore read overlap\n",
      "                 - asm5/asm10/asm20: asm-to-ref mapping, for ~0.1/1/5% sequence divergence\n",
      "                 - splice: long-read spliced alignment\n",
      "                 - sr: genomic short-read mapping\n",
      "\n",
      "See `man ./minimap2.1' for detailed description of these and other advanced command-line options.\n"
     ]
    }
   ],
   "source": [
    "!minimap2"
   ]
  },
  {
   "cell_type": "code",
   "execution_count": 2,
   "id": "10555bf2-7b7f-4bbc-beee-8a351744a36e",
   "metadata": {},
   "outputs": [
    {
     "name": "stdout",
     "output_type": "stream",
     "text": [
      "[M::mm_idx_gen::1.766*1.00] collected minimizers\n",
      "[M::mm_idx_gen::2.071*1.29] sorted minimizers\n",
      "[M::main::2.335*1.26] loaded/built the index for 1 target sequence(s)\n",
      "[M::mm_idx_stat] kmer size: 15; skip: 10; is_hpc: 0; #seq: 1\n",
      "[M::mm_idx_stat::2.422*1.25] distinct minimizers: 6639965 (86.42% are singletons); average occurrences: 1.666; average spacing: 5.298\n",
      "[M::main] Version: 2.17-r941\n",
      "[M::main] CMD: minimap2 -d ./files/step_2_read_mapping/chr19_minimap2_index ./files/step_2_read_mapping/chr19.fa.gz\n",
      "[M::main] Real time: 2.434 sec; CPU: 3.036 sec; Peak RSS: 0.514 GB\n"
     ]
    }
   ],
   "source": [
    "# index reference chromosome 19 with minimap2\n",
    "!minimap2 -d ./files/step_2_read_mapping/chr19_minimap2_index ./files/step_2_read_mapping/chr19.fa.gz"
   ]
  },
  {
   "cell_type": "code",
   "execution_count": 3,
   "id": "674b29b9-983a-4dbc-9f2a-1e40aeca11ac",
   "metadata": {},
   "outputs": [
    {
     "name": "stdout",
     "output_type": "stream",
     "text": [
      "[M::main::0.481*1.00] loaded/built the index for 1 target sequence(s)\n",
      "[M::mm_mapopt_update::0.613*1.00] mid_occ = 279\n",
      "[M::mm_idx_stat] kmer size: 15; skip: 10; is_hpc: 0; #seq: 1\n",
      "[M::mm_idx_stat::0.709*1.00] distinct minimizers: 6639965 (86.42% are singletons); average occurrences: 1.666; average spacing: 5.298\n",
      "ERROR: failed to open file './files/step_1_ngs_quality_control/QC_by_fastp/./files/step_1_ngs_quality_control/QC_by_fastp/QC_SRR075914_1.fastq.gz'\n",
      "[M::worker_pipeline::3.579*1.98] mapped 645800 sequences\n",
      "[M::main] Version: 2.17-r941\n",
      "[M::main] CMD: minimap2 -c -a ./files/step_2_read_mapping/chr19_minimap2_index ./files/step_1_ngs_quality_control/QC_by_fastp/./files/step_1_ngs_quality_control/QC_by_fastp/QC_SRR075914_1.fastq.gz ./files/step_1_ngs_quality_control/QC_by_fastp/QC_SRR075914_2.fastq.gz\n",
      "[M::main] Real time: 3.620 sec; CPU: 7.125 sec; Peak RSS: 0.476 GB\n"
     ]
    }
   ],
   "source": [
    "# read mapping with minimap2 with options \"-c -a\" so that it outputs standard SAM file\n",
    "!minimap2 -c -a ./files/step_2_read_mapping/chr19_minimap2_index ./files/step_1_ngs_quality_control/QC_by_fastp/./files/step_1_ngs_quality_control/QC_by_fastp/QC_SRR075914_1.fastq.gz ./files/step_1_ngs_quality_control/QC_by_fastp/QC_SRR075914_2.fastq.gz > ./files/step_2_read_mapping/SRR075914_chr19_minimap2.sam"
   ]
  },
  {
   "cell_type": "code",
   "execution_count": 4,
   "id": "12d4b634-6ffb-4415-88ce-ed9112eb1232",
   "metadata": {},
   "outputs": [
    {
     "name": "stdout",
     "output_type": "stream",
     "text": [
      "@SQ\tSN:chr19\tLN:58617616\n",
      "@PG\tID:minimap2\tPN:minimap2\tVN:2.17-r941\tCL:minimap2 -c -a ./files/step_2_read_mapping/chr19_minimap2_index ./files/step_1_ngs_quality_control/QC_by_fastp/./files/step_1_ngs_quality_control/QC_by_fastp/QC_SRR075914_1.fastq.gz ./files/step_1_ngs_quality_control/QC_by_fastp/QC_SRR075914_2.fastq.gz\n",
      "SRR075914.4\t4\t*\t0\t0\t*\t*\t0\t0\tTGGGTGGGAACACAGCCAAACCATATTAGGGGCACAAGAGAACTTTCAGGTATGATAGANATGTTNNN\tA>>:;CA=:C5DD5DEE??EEBAEED5BDA)*567=DDCA5A<<?AAA5:==C######!#####!!!\trl:i:0\n",
      "SRR075914.5\t4\t*\t0\t0\t*\t*\t0\t0\tTATAACAATCATGCAAGAGAGCTTCTATTGTTATCATCCCCACTTCACAGAGAATAAAACTGAGACAN\tDGGFDGGGGDGGGAGD?A?:A<AA?FFFDDCD?CA>?-A(AA:A?EB-=BCBBD-CB##########!\trl:i:0\n",
      "SRR075914.13\t4\t*\t0\t0\t*\t*\t0\t0\tTCCCTGGATAAAAATACTCCTTCCTGTAGTCTCTCAATTCAGAGCTCATAGTCAGTCTTTTCTCTCCT\tEEAD:EE=EEFDFE8CCEEDGGB=BFDFFDDEEABED?5:DD=:CABBEEEDEE?FFD:FC@6,CCCC\trl:i:0\n",
      "SRR075914.18\t4\t*\t0\t0\t*\t*\t0\t0\tGTCAGTCTCAGAGTAGATATGGTAAGAACTTTGGACCCATGGACAGAAACGTTCCATTTGAACTATCC\tGGGDFGGGGFEDEBAEE?=EFF:F?FFFFAGG=GDC-AAA@C-CBA<?&?C>>.@#############\trl:i:0\n",
      "SRR075914.20\t4\t*\t0\t0\t*\t*\t0\t0\tTGAAAGATTCCAGCTCTGAAAAAAAGAGAGAAAGATCAAAGAGACAGTTTAAAAATAGTTCAGATGTC\tGFABFDAFFFGFAFGGGGDFEFFAC@CCFDGEGBDBEADD4=->>==:A+758702-186CD:CD###\trl:i:0\n",
      "SRR075914.22\t4\t*\t0\t0\t*\t*\t0\t0\tCTGAGGTCGTTGATTCTGATGGATCAGTGAAAGACAAAATCACAGCATTCATAGTAGAAAGAGACTTT\tDDDD:DADACFEBFFFGG??FF?ED>?<A?E=C??CD?;@A@AC########################\trl:i:0\n",
      "SRR075914.25\t4\t*\t0\t0\t*\t*\t0\t0\tAAAAGCACTGAAGAAGATTTAAAGCAAAAGTTCTATAACCACAGTACTAAGGAGATTCAAACGACTAA\tGGFEGFGEAGGFEGGE:=DBEACEDFE?F=BECEEDBB?DA?C=@EE=CC=??B1??:A>C:@A:A>C\trl:i:0\n",
      "SRR075914.26\t4\t*\t0\t0\t*\t*\t0\t0\tCCCTAGCACTTGCCTTTGAATTAAAGTTGTGTTTGTTTGTTTAGTTTCCTGGGAGTTACTGATCATCT\tFFFDFDGGGEGFGGGEFGGDFBFBFECEECDBD?DEEAEE?>;EB@BC5BDDD=DBEDD-;>:457?>\trl:i:0\n"
     ]
    }
   ],
   "source": [
    "# check the output file\n",
    "!head ./files/step_2_read_mapping/SRR075914_chr19_minimap2.sam"
   ]
  },
  {
   "cell_type": "code",
   "execution_count": 5,
   "id": "6f5c34f9-a36a-4ade-a1aa-2467fbac57b4",
   "metadata": {},
   "outputs": [
    {
     "name": "stdout",
     "output_type": "stream",
     "text": [
      "697290 ./files/step_2_read_mapping/SRR075914_chr19_minimap2.sam\n"
     ]
    }
   ],
   "source": [
    "!wc -l ./files/step_2_read_mapping/SRR075914_chr19_minimap2.sam"
   ]
  },
  {
   "cell_type": "markdown",
   "id": "1d5bab4e-c19c-4fc0-a038-9ad0e3ec2263",
   "metadata": {},
   "source": [
    "---\n",
    "\n",
    "### 4. Discussion"
   ]
  },
  {
   "cell_type": "markdown",
   "id": "ee414ca7-c172-4a95-9c84-7e931456aade",
   "metadata": {},
   "source": [
    "In this demonstration, I ran only bwa-mem and minimap2. However, we can see that there is difference in number of mapped reads. There are studies comparing the efficiency of different read mappers such as this one https://doi.org/10.3390/plants9040439\n"
   ]
  }
 ],
 "metadata": {
  "kernelspec": {
   "display_name": "Python 3 (ipykernel)",
   "language": "python",
   "name": "python3"
  },
  "language_info": {
   "codemirror_mode": {
    "name": "ipython",
    "version": 3
   },
   "file_extension": ".py",
   "mimetype": "text/x-python",
   "name": "python",
   "nbconvert_exporter": "python",
   "pygments_lexer": "ipython3",
   "version": "3.9.20"
  }
 },
 "nbformat": 4,
 "nbformat_minor": 5
}
