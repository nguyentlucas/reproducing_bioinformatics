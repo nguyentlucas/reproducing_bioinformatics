{
 "cells": [
  {
   "cell_type": "markdown",
   "id": "cc411c41-9445-425d-a42c-31ce6a7a7a95",
   "metadata": {},
   "source": [
    "# **Read mapping using post-QC NGS data**\n",
    "---"
   ]
  },
  {
   "cell_type": "markdown",
   "id": "0d1ad40d-6c2b-4c8e-90ae-eb9b9c188aee",
   "metadata": {},
   "source": [
    "### 1. Reference genome"
   ]
  },
  {
   "cell_type": "markdown",
   "id": "7a3bc06f-383a-4a77-8ed9-cdac72a47c5a",
   "metadata": {},
   "source": [
    "University of Californa Santa Cruz is a common source for reference genomes ranging  mulitple species including human. To browse their well-annotated directory, visit: https://hgdownload.soe.ucsc.edu/goldenPath/hg38/bigZips/\n",
    "\n",
    "For our purposes, we are downloading hg38 assesmbly which is the latest GRCh assembly and more commonly used assembly than the latest hs1 genome hosted on UC Santa Cruz."
   ]
  },
  {
   "cell_type": "code",
   "execution_count": 2,
   "id": "fa827b88-d746-4ad2-90cc-868c3944700c",
   "metadata": {},
   "outputs": [
    {
     "name": "stdout",
     "output_type": "stream",
     "text": [
      "--2024-10-16 19:34:13--  https://hgdownload.soe.ucsc.edu/goldenPath/hg38/bigZips/latest/hg38.fa.gz\n",
      "Resolving hgdownload.soe.ucsc.edu (hgdownload.soe.ucsc.edu)... 128.114.119.163\n",
      "Connecting to hgdownload.soe.ucsc.edu (hgdownload.soe.ucsc.edu)|128.114.119.163|:443... connected.\n",
      "HTTP request sent, awaiting response... 200 OK\n",
      "Length: 1012013082 (965M) [application/x-gzip]\n",
      "Saving to: ‘hg38.fa.gz’\n",
      "\n",
      "hg38.fa.gz          100%[===================>] 965.13M  58.5MB/s    in 17s     \n",
      "\n",
      "2024-10-16 19:34:31 (57.6 MB/s) - ‘hg38.fa.gz’ saved [1012013082/1012013082]\n",
      "\n"
     ]
    }
   ],
   "source": [
    "!wget https://hgdownload.soe.ucsc.edu/goldenPath/hg38/bigZips/latest/hg38.fa.gz"
   ]
  },
  {
   "cell_type": "code",
   "execution_count": 3,
   "id": "0fcc546f-b0c6-4278-8fa2-2da64187178a",
   "metadata": {},
   "outputs": [],
   "source": [
    "!mkdir ./files/step_2_read_mapping\n",
    "!mv hg38.fa.gz ./files/step_2_read_mapping"
   ]
  },
  {
   "cell_type": "code",
   "execution_count": 4,
   "id": "41efe9f5-8f46-4361-a0a1-50542ae8183c",
   "metadata": {},
   "outputs": [
    {
     "name": "stdout",
     "output_type": "stream",
     "text": [
      ">chr1\n",
      "NNNNNNNNNNNNNNNNNNNNNNNNNNNNNNNNNNNNNNNNNNNNNNNNNN\n",
      "NNNNNNNNNNNNNNNNNNNNNNNNNNNNNNNNNNNNNNNNNNNNNNNNNN\n",
      "NNNNNNNNNNNNNNNNNNNNNNNNNNNNNNNNNNNNNNNNNNNNNNNNNN\n",
      "NNNNNNNNNNNNNNNNNNNNNNNNNNNNNNNNNNNNNNNNNNNNNNNNNN\n",
      "NNNNNNNNNNNNNNNNNNNNNNNNNNNNNNNNNNNNNNNNNNNNNNNNNN\n",
      "NNNNNNNNNNNNNNNNNNNNNNNNNNNNNNNNNNNNNNNNNNNNNNNNNN\n",
      "NNNNNNNNNNNNNNNNNNNNNNNNNNNNNNNNNNNNNNNNNNNNNNNNNN\n",
      "NNNNNNNNNNNNNNNNNNNNNNNNNNNNNNNNNNNNNNNNNNNNNNNNNN\n",
      "NNNNNNNNNNNNNNNNNNNNNNNNNNNNNNNNNNNNNNNNNNNNNNNNNN\n",
      "\n",
      "gzip: stdout: Broken pipe\n"
     ]
    }
   ],
   "source": [
    "!zcat ./files/step_2_read_mapping/hg38.fa.gz| head -n10"
   ]
  },
  {
   "cell_type": "markdown",
   "id": "9d15a702-3109-4136-850c-6c660aad38eb",
   "metadata": {},
   "source": [
    "A quick glance at the assembly shows that it does not only include the canonical nucleotide ATGC, but also other symbols. The following explanation is given on UCSC website:\n",
    "> hg38.fa.gz - \"Soft-masked\" assembly sequence in one file.\n",
    "    Repeats from RepeatMasker and Tandem Repeats Finder (with period of 12 or\n",
    "    less) are shown in lower case; non-repeating sequence is shown in upper\n",
    "    case. (again, the most current version of this file is latest/hg38.fa.gz)\n",
    "\n",
    "Thus, we can infer that the N is probably gaps of unknown nucleotides and not hard-masked repeats such as the case in another file:\n",
    "> hg38.fa.masked.gz - \"Hard-masked\" assembly sequence in one file.\n",
    "    Repeats are masked by capital Ns; non-repeating sequence is shown in\n",
    "    upper case."
   ]
  },
  {
   "cell_type": "markdown",
   "id": "ac0b76d6-0bb1-4496-886e-f9c55019eff8",
   "metadata": {},
   "source": [
    "---\n",
    "\n",
    "### 2. Tools for read mapping"
   ]
  }
 ],
 "metadata": {
  "kernelspec": {
   "display_name": "Python 3 (ipykernel)",
   "language": "python",
   "name": "python3"
  },
  "language_info": {
   "codemirror_mode": {
    "name": "ipython",
    "version": 3
   },
   "file_extension": ".py",
   "mimetype": "text/x-python",
   "name": "python",
   "nbconvert_exporter": "python",
   "pygments_lexer": "ipython3",
   "version": "3.9.20"
  }
 },
 "nbformat": 4,
 "nbformat_minor": 5
}
