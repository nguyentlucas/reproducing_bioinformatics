{
 "cells": [
  {
   "cell_type": "markdown",
   "id": "df933972",
   "metadata": {},
   "source": [
    "# **Performing quality control (QC) on next-generation sequencing (NGS) data**\n",
    "---"
   ]
  },
  {
   "cell_type": "markdown",
   "id": "a0be0d3c",
   "metadata": {},
   "source": [
    "Firstly, we explore the metrics that are important to this QC process."
   ]
  },
  {
   "cell_type": "code",
   "execution_count": null,
   "id": "fc26fe8a",
   "metadata": {},
   "outputs": [],
   "source": []
  }
 ],
 "metadata": {
  "kernelspec": {
   "display_name": "Python 3 (ipykernel)",
   "language": "python",
   "name": "python3"
  },
  "language_info": {
   "codemirror_mode": {
    "name": "ipython",
    "version": 3
   },
   "file_extension": ".py",
   "mimetype": "text/x-python",
   "name": "python",
   "nbconvert_exporter": "python",
   "pygments_lexer": "ipython3",
   "version": "3.8.14"
  }
 },
 "nbformat": 4,
 "nbformat_minor": 5
}
