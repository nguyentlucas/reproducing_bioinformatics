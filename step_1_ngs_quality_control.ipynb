{
 "cells": [
  {
   "cell_type": "markdown",
   "id": "df933972",
   "metadata": {},
   "source": [
    "# **Performing quality control (QC) on next-generation sequencing (NGS) data**\n",
    "---"
   ]
  },
  {
   "cell_type": "markdown",
   "id": "3f36f0c6",
   "metadata": {},
   "source": [
    "### 1. Introduction to NGS data"
   ]
  },
  {
   "cell_type": "markdown",
   "id": "a0be0d3c",
   "metadata": {},
   "source": [
    "NGS data is usually received in the FASTQ format. To showcase the FASTQ format, we are downloading and viewing the NGS data for one individual from the 1000 Genomes Project (1KGP)."
   ]
  },
  {
   "cell_type": "code",
   "execution_count": 2,
   "id": "e6b5bc47",
   "metadata": {},
   "outputs": [
    {
     "name": "stdout",
     "output_type": "stream",
     "text": [
      "--2023-12-28 05:16:37--  ftp://ftp.sra.ebi.ac.uk/vol1/fastq/ERR055/ERR055765/ERR055765_1.fastq.gz\n",
      "           => ‘ERR055765_1.fastq.gz’\n",
      "Resolving ftp.sra.ebi.ac.uk (ftp.sra.ebi.ac.uk)... 193.62.193.165\n",
      "Connecting to ftp.sra.ebi.ac.uk (ftp.sra.ebi.ac.uk)|193.62.193.165|:21... connected.\n",
      "Logging in as anonymous ... Logged in!\n",
      "==> SYST ... done.    ==> PWD ... done.\n",
      "==> TYPE I ... done.  ==> CWD (1) /vol1/fastq/ERR055/ERR055765 ... done.\n",
      "==> SIZE ERR055765_1.fastq.gz ... 2196023346\n",
      "==> PASV ... done.    ==> RETR ERR055765_1.fastq.gz ... done.\n",
      "Length: 2196023346 (2.0G) (unauthoritative)\n",
      "\n",
      "100%[====================================>] 2,196,023,346 26.5MB/s   in 86s    \n",
      "\n",
      "2023-12-28 05:18:05 (24.3 MB/s) - ‘ERR055765_1.fastq.gz’ saved [2196023346]\n",
      "\n"
     ]
    }
   ],
   "source": [
    "!wget ftp://ftp.sra.ebi.ac.uk/vol1/fastq/ERR055/ERR055765/ERR055765_1.fastq.gz"
   ]
  },
  {
   "cell_type": "code",
   "execution_count": 3,
   "id": "ad789a96",
   "metadata": {},
   "outputs": [],
   "source": [
    "!mkdir ./files\n",
    "!mkdir ./files/step_1_ngs_quality_control"
   ]
  },
  {
   "cell_type": "code",
   "execution_count": 4,
   "id": "2e814782",
   "metadata": {},
   "outputs": [],
   "source": [
    "!mv ERR055765_1.fastq.gz ./files/step_1_ngs_quality_control/"
   ]
  },
  {
   "cell_type": "code",
   "execution_count": 5,
   "id": "ff60a186",
   "metadata": {},
   "outputs": [
    {
     "name": "stdout",
     "output_type": "stream",
     "text": [
      "@ERR055765.1 HS12_6764:4:1204:18972:69546#3/1\r\n",
      "CCCTAACCCTAACCCTAACCCTAACCCTAACCCTAACCCTAACCCTAACCCTAACCCTAACCCTAACCCTAACCCTAACCCTAACACTAACACTAACCCA\r\n",
      "+\r\n",
      ";;<DDDDB??B??GBEHEHIC@EA>+C?;CFEBB?;?FB8DEHB;;DGGI@6C@F(6=).=2=6?@2?=;(6;;55(;;?<9C(5(((:?:+(+9((8?(\r\n",
      "@ERR055765.2 HS12_6764:4:1205:17951:89436#3/1\r\n",
      "CTAACCCTAACCCTAACCCTAACCCTAACCCTAACCCTAACCCTAACCCTAACCCTAACCCTAACCCTAACCCTAACCCTAACCCTAACCCTACCCTAAC\r\n",
      "+\r\n",
      "CCCFFFFFHHHHHJJIJJJJIJJJJJJJJJJGIIJIJJIIIHGIEHJJJJI@GGHGGJIGH@CEFFBD7>A@?5?CAAB9ACA?A@9AB?B2<(8A(+9?\r\n",
      "@ERR055765.3 HS12_6764:4:1208:2207:79776#3/1\r\n",
      "CTAACCCTAACCCTAACCCTAACCCTAACCCTAACCCTAACCCTAACCCTAACCCTAACCCTAACCCTAACCCTAACCCTAACCCTAACCCTACCCCTCC\r\n",
      "\r\n",
      "gzip: stdout: Broken pipe\r\n"
     ]
    }
   ],
   "source": [
    "!zcat ./files/step_1_ngs_quality_control/ERR055765_1.fastq.gz | head -n10"
   ]
  },
  {
   "cell_type": "markdown",
   "id": "2bb4c40d",
   "metadata": {},
   "source": [
    "The FASTQ format includes:\n",
    "- read identifier line that starts with \"@\"\n",
    "- base call sequence\n",
    "- a spacer line (sometimes with the same identifer as the read identifier line)\n",
    "- quality score for each base called in the base call sequence\n",
    "\n",
    "and it repeats for each read of which there are many in each FASTQ file."
   ]
  }
 ],
 "metadata": {
  "kernelspec": {
   "display_name": "Python 3 (ipykernel)",
   "language": "python",
   "name": "python3"
  },
  "language_info": {
   "codemirror_mode": {
    "name": "ipython",
    "version": 3
   },
   "file_extension": ".py",
   "mimetype": "text/x-python",
   "name": "python",
   "nbconvert_exporter": "python",
   "pygments_lexer": "ipython3",
   "version": "3.8.14"
  }
 },
 "nbformat": 4,
 "nbformat_minor": 5
}
