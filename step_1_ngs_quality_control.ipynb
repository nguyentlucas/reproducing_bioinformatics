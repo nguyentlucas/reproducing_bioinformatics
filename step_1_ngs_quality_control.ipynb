{
 "cells": [
  {
   "cell_type": "markdown",
   "id": "df933972",
   "metadata": {},
   "source": [
    "# **Performing quality control (QC) on next-generation sequencing (NGS) data**\n",
    "---"
   ]
  },
  {
   "cell_type": "markdown",
   "id": "3f36f0c6",
   "metadata": {},
   "source": [
    "### 1. Introduction to NGS data"
   ]
  },
  {
   "cell_type": "markdown",
   "id": "a0be0d3c",
   "metadata": {},
   "source": [
    "NGS data is usually received in the FASTQ format. Each FASTQ test file can contain multiple reads from each NGS run. To showcase the FASTQ format, we are downloading and viewing the NGS data for one individual from the 1000 Genomes Project (1KGP)."
   ]
  },
  {
   "cell_type": "code",
   "execution_count": 2,
   "id": "e6b5bc47",
   "metadata": {},
   "outputs": [
    {
     "name": "stdout",
     "output_type": "stream",
     "text": [
      "--2023-12-28 05:16:37--  ftp://ftp.sra.ebi.ac.uk/vol1/fastq/ERR055/ERR055765/ERR055765_1.fastq.gz\n",
      "           => ‘ERR055765_1.fastq.gz’\n",
      "Resolving ftp.sra.ebi.ac.uk (ftp.sra.ebi.ac.uk)... 193.62.193.165\n",
      "Connecting to ftp.sra.ebi.ac.uk (ftp.sra.ebi.ac.uk)|193.62.193.165|:21... connected.\n",
      "Logging in as anonymous ... Logged in!\n",
      "==> SYST ... done.    ==> PWD ... done.\n",
      "==> TYPE I ... done.  ==> CWD (1) /vol1/fastq/ERR055/ERR055765 ... done.\n",
      "==> SIZE ERR055765_1.fastq.gz ... 2196023346\n",
      "==> PASV ... done.    ==> RETR ERR055765_1.fastq.gz ... done.\n",
      "Length: 2196023346 (2.0G) (unauthoritative)\n",
      "\n",
      "100%[====================================>] 2,196,023,346 26.5MB/s   in 86s    \n",
      "\n",
      "2023-12-28 05:18:05 (24.3 MB/s) - ‘ERR055765_1.fastq.gz’ saved [2196023346]\n",
      "\n"
     ]
    }
   ],
   "source": [
    "!wget ftp://ftp.sra.ebi.ac.uk/vol1/fastq/ERR055/ERR055765/ERR055765_1.fastq.gz"
   ]
  },
  {
   "cell_type": "code",
   "execution_count": 3,
   "id": "ad789a96",
   "metadata": {},
   "outputs": [],
   "source": [
    "!mkdir ./files\n",
    "!mkdir ./files/step_1_ngs_quality_control"
   ]
  },
  {
   "cell_type": "code",
   "execution_count": 4,
   "id": "2e814782",
   "metadata": {},
   "outputs": [],
   "source": [
    "!mv ERR055765_1.fastq.gz ./files/step_1_ngs_quality_control/"
   ]
  },
  {
   "cell_type": "code",
   "execution_count": 5,
   "id": "ff60a186",
   "metadata": {},
   "outputs": [
    {
     "name": "stdout",
     "output_type": "stream",
     "text": [
      "@ERR055765.1 HS12_6764:4:1204:18972:69546#3/1\r\n",
      "CCCTAACCCTAACCCTAACCCTAACCCTAACCCTAACCCTAACCCTAACCCTAACCCTAACCCTAACCCTAACCCTAACCCTAACACTAACACTAACCCA\r\n",
      "+\r\n",
      ";;<DDDDB??B??GBEHEHIC@EA>+C?;CFEBB?;?FB8DEHB;;DGGI@6C@F(6=).=2=6?@2?=;(6;;55(;;?<9C(5(((:?:+(+9((8?(\r\n",
      "@ERR055765.2 HS12_6764:4:1205:17951:89436#3/1\r\n",
      "CTAACCCTAACCCTAACCCTAACCCTAACCCTAACCCTAACCCTAACCCTAACCCTAACCCTAACCCTAACCCTAACCCTAACCCTAACCCTACCCTAAC\r\n",
      "+\r\n",
      "CCCFFFFFHHHHHJJIJJJJIJJJJJJJJJJGIIJIJJIIIHGIEHJJJJI@GGHGGJIGH@CEFFBD7>A@?5?CAAB9ACA?A@9AB?B2<(8A(+9?\r\n",
      "@ERR055765.3 HS12_6764:4:1208:2207:79776#3/1\r\n",
      "CTAACCCTAACCCTAACCCTAACCCTAACCCTAACCCTAACCCTAACCCTAACCCTAACCCTAACCCTAACCCTAACCCTAACCCTAACCCTACCCCTCC\r\n",
      "\r\n",
      "gzip: stdout: Broken pipe\r\n"
     ]
    }
   ],
   "source": [
    "!zcat ./files/step_1_ngs_quality_control/ERR055765_1.fastq.gz | head -n10"
   ]
  },
  {
   "cell_type": "markdown",
   "id": "2bb4c40d",
   "metadata": {},
   "source": [
    "The FASTQ format includes:\n",
    "- read identifier line that starts with \"@\"\n",
    "- base call sequence\n",
    "- a spacer line (sometimes with the same identifer as the read identifier line)\n",
    "- quality score for each base called in the base call sequence\n",
    "\n",
    "and it repeats for each read of which there are many in each FASTQ file."
   ]
  },
  {
   "cell_type": "markdown",
   "id": "1d53aaee",
   "metadata": {},
   "source": [
    "---\n",
    "### 2. FastQC for assessing the quality of the reads in a FASTQ file"
   ]
  },
  {
   "cell_type": "markdown",
   "id": "35cc3006",
   "metadata": {},
   "source": [
    "FastQC is a software used before running QC to provide some checks especially through graphs and plots for a quick overview. This step tells us what to pay attention to when running the QC. We first go through how to install fastQC."
   ]
  },
  {
   "cell_type": "code",
   "execution_count": 1,
   "id": "07790fda",
   "metadata": {},
   "outputs": [
    {
     "name": "stdout",
     "output_type": "stream",
     "text": [
      "--2023-12-29 02:53:55--  https://www.bioinformatics.babraham.ac.uk/projects/fastqc/fastqc_v0.12.1.zip\n",
      "Resolving www.bioinformatics.babraham.ac.uk (www.bioinformatics.babraham.ac.uk)... 149.155.133.4\n",
      "Connecting to www.bioinformatics.babraham.ac.uk (www.bioinformatics.babraham.ac.uk)|149.155.133.4|:443... connected.\n",
      "HTTP request sent, awaiting response... 200 OK\n",
      "Length: 11709692 (11M) [application/zip]\n",
      "Saving to: ‘fastqc_v0.12.1.zip’\n",
      "\n",
      "100%[======================================>] 11,709,692  10.4MB/s   in 1.1s   \n",
      "\n",
      "2023-12-29 02:54:02 (10.4 MB/s) - ‘fastqc_v0.12.1.zip’ saved [11709692/11709692]\n",
      "\n"
     ]
    }
   ],
   "source": [
    "!wget https://www.bioinformatics.babraham.ac.uk/projects/fastqc/fastqc_v0.12.1.zip"
   ]
  },
  {
   "cell_type": "code",
   "execution_count": 3,
   "id": "7044254c",
   "metadata": {},
   "outputs": [],
   "source": [
    "!mv fastqc_v0.12.1.zip ./files/step_1_ngs_quality_control/fastQC_software\n",
    "!unzip ./files/step_1_ngs_quality_control/fastQC_software/fastqc_v0.12.1.zip\n",
    "!chmod +x FastQC/fastqc"
   ]
  },
  {
   "cell_type": "code",
   "execution_count": 4,
   "id": "3fad1076",
   "metadata": {},
   "outputs": [
    {
     "name": "stdout",
     "output_type": "stream",
     "text": [
      "\r\n",
      "            FastQC - A high throughput sequence QC analysis tool\r\n",
      "\r\n",
      "SYNOPSIS\r\n",
      "\r\n",
      "\tfastqc seqfile1 seqfile2 .. seqfileN\r\n",
      "\r\n",
      "    fastqc [-o output dir] [--(no)extract] [-f fastq|bam|sam] \r\n",
      "           [-c contaminant file] seqfile1 .. seqfileN\r\n",
      "\r\n",
      "DESCRIPTION\r\n",
      "\r\n",
      "    FastQC reads a set of sequence files and produces from each one a quality\r\n",
      "    control report consisting of a number of different modules, each one of \r\n",
      "    which will help to identify a different potential type of problem in your\r\n",
      "    data.\r\n",
      "    \r\n",
      "    If no files to process are specified on the command line then the program\r\n",
      "    will start as an interactive graphical application.  If files are provided\r\n",
      "    on the command line then the program will run with no user interaction\r\n",
      "    required.  In this mode it is suitable for inclusion into a standardised\r\n",
      "    analysis pipeline.\r\n",
      "    \r\n",
      "    The options for the program as as follows:\r\n",
      "    \r\n",
      "    -h --help       Print this help file and exit\r\n",
      "    \r\n",
      "    -v --version    Print the version of the program and exit\r\n",
      "    \r\n",
      "    -o --outdir     Create all output files in the specified output directory.\r\n",
      "                    Please note that this directory must exist as the program\r\n",
      "                    will not create it.  If this option is not set then the \r\n",
      "                    output file for each sequence file is created in the same\r\n",
      "                    directory as the sequence file which was processed.\r\n",
      "                    \r\n",
      "    --casava        Files come from raw casava output. Files in the same sample\r\n",
      "                    group (differing only by the group number) will be analysed\r\n",
      "                    as a set rather than individually. Sequences with the filter\r\n",
      "                    flag set in the header will be excluded from the analysis.\r\n",
      "                    Files must have the same names given to them by casava\r\n",
      "                    (including being gzipped and ending with .gz) otherwise they\r\n",
      "                    won't be grouped together correctly.\r\n",
      "                    \r\n",
      "    --nano          Files come from nanopore sequences and are in fast5 format. In\r\n",
      "                    this mode you can pass in directories to process and the program\r\n",
      "                    will take in all fast5 files within those directories and produce\r\n",
      "                    a single output file from the sequences found in all files.                    \r\n",
      "                    \r\n",
      "    --nofilter      If running with --casava then don't remove read flagged by\r\n",
      "                    casava as poor quality when performing the QC analysis.\r\n",
      "                   \r\n",
      "    --extract       If set then the zipped output file will be uncompressed in\r\n",
      "                    the same directory after it has been created. If --delete is \r\n",
      "                    also specified then the zip file will be removed after the \r\n",
      "                    contents are unzipped. \r\n",
      "                    \r\n",
      "    -j --java       Provides the full path to the java binary you want to use to\r\n",
      "                    launch fastqc. If not supplied then java is assumed to be in\r\n",
      "                    your path.\r\n",
      "                   \r\n",
      "    --noextract     Do not uncompress the output file after creating it.  You\r\n",
      "                    should set this option if you do not wish to uncompress\r\n",
      "                    the output when running in non-interactive mode.\r\n",
      "                    \r\n",
      "    --nogroup       Disable grouping of bases for reads >50bp. All reports will\r\n",
      "                    show data for every base in the read.  WARNING: Using this\r\n",
      "                    option will cause fastqc to crash and burn if you use it on\r\n",
      "                    really long reads, and your plots may end up a ridiculous size.\r\n",
      "                    You have been warned!\r\n",
      "                    \r\n",
      "    --min_length    Sets an artificial lower limit on the length of the sequence\r\n",
      "                    to be shown in the report.  As long as you set this to a value\r\n",
      "                    greater or equal to your longest read length then this will be\r\n",
      "                    the sequence length used to create your read groups.  This can\r\n",
      "                    be useful for making directly comaparable statistics from \r\n",
      "                    datasets with somewhat variable read lengths.\r\n",
      "\r\n",
      "    --dup_length    Sets a length to which the sequences will be truncated when \r\n",
      "                    defining them to be duplicates, affecting the duplication and\r\n",
      "                    overrepresented sequences plot.  This can be useful if you have\r\n",
      "                    long reads with higher levels of miscalls, or contamination with\r\n",
      "                    adapter dimers containing UMI sequences.\r\n",
      "\r\n",
      "                    \r\n",
      "    -f --format     Bypasses the normal sequence file format detection and\r\n",
      "                    forces the program to use the specified format.  Valid\r\n",
      "                    formats are bam,sam,bam_mapped,sam_mapped and fastq\r\n",
      "                    \r\n",
      "\r\n",
      "    --memory        Sets the base amount of memory, in Megabytes, used to process \r\n",
      "                    each file.  Defaults to 512MB.  You may need to increase this if\r\n",
      "                    you have a file with very long sequences in it.\r\n",
      "                \r\n",
      "    --svg           Save the graphs in the report in SVG format.\r\n",
      "\r\n",
      "    -t --threads    Specifies the number of files which can be processed\r\n",
      "                    simultaneously.  Each thread will be allocated 250MB of\r\n",
      "                    memory so you shouldn't run more threads than your\r\n",
      "                    available memory will cope with, and not more than\r\n",
      "                    6 threads on a 32 bit machine\r\n",
      "                  \r\n",
      "    -c              Specifies a non-default file which contains the list of\r\n",
      "    --contaminants  contaminants to screen overrepresented sequences against.\r\n",
      "                    The file must contain sets of named contaminants in the\r\n",
      "                    form name[tab]sequence.  Lines prefixed with a hash will\r\n",
      "                    be ignored.\r\n",
      "\r\n",
      "    -a              Specifies a non-default file which contains the list of\r\n",
      "    --adapters      adapter sequences which will be explicity searched against\r\n",
      "                    the library. The file must contain sets of named adapters\r\n",
      "                    in the form name[tab]sequence.  Lines prefixed with a hash\r\n",
      "                    will be ignored.\r\n",
      "                    \r\n",
      "    -l              Specifies a non-default file which contains a set of criteria\r\n",
      "    --limits        which will be used to determine the warn/error limits for the\r\n",
      "                    various modules.  This file can also be used to selectively \r\n",
      "                    remove some modules from the output all together.  The format\r\n",
      "                    needs to mirror the default limits.txt file found in the\r\n",
      "                    Configuration folder.\r\n",
      "                    \r\n",
      "   -k --kmers       Specifies the length of Kmer to look for in the Kmer content\r\n",
      "                    module. Specified Kmer length must be between 2 and 10. Default\r\n",
      "                    length is 7 if not specified.\r\n",
      "                    \r\n",
      "   -q --quiet       Suppress all progress messages on stdout and only report errors.\r\n",
      "   \r\n",
      "   -d --dir         Selects a directory to be used for temporary files written when\r\n",
      "                    generating report images. Defaults to system temp directory if\r\n",
      "                    not specified.\r\n",
      "                    \r\n",
      "BUGS\r\n",
      "\r\n",
      "    Any bugs in fastqc should be reported either to simon.andrews@babraham.ac.uk\r\n",
      "    or in www.bioinformatics.babraham.ac.uk/bugzilla/\r\n",
      "                   \r\n",
      "    \r\n"
     ]
    }
   ],
   "source": [
    "!./files/step_1_ngs_quality_control/fastQC_software/FastQC/fastqc --help"
   ]
  },
  {
   "cell_type": "markdown",
   "id": "a87cc19b",
   "metadata": {},
   "source": [
    "At this point, some would add the directoy to the script to $PATH permanently by editing .bashrc. However, for this demonstration, we are using the script straight from the directory. Following the instructions from FastQC (https://www.bioinformatics.babraham.ac.uk/projects/fastqc/INSTALL.txt), we formulate our commands as follow:"
   ]
  },
  {
   "cell_type": "code",
   "execution_count": 5,
   "id": "2899b8b3",
   "metadata": {},
   "outputs": [
    {
     "name": "stdout",
     "output_type": "stream",
     "text": [
      "application/gzip\n",
      "Started analysis of ERR055765_1.fastq.gz\n",
      "Approx 5% complete for ERR055765_1.fastq.gz\n",
      "Approx 10% complete for ERR055765_1.fastq.gz\n",
      "Approx 15% complete for ERR055765_1.fastq.gz\n",
      "Approx 20% complete for ERR055765_1.fastq.gz\n",
      "Approx 25% complete for ERR055765_1.fastq.gz\n",
      "Approx 30% complete for ERR055765_1.fastq.gz\n",
      "Approx 35% complete for ERR055765_1.fastq.gz\n",
      "Approx 40% complete for ERR055765_1.fastq.gz\n",
      "Approx 45% complete for ERR055765_1.fastq.gz\n",
      "Approx 50% complete for ERR055765_1.fastq.gz\n",
      "Approx 55% complete for ERR055765_1.fastq.gz\n",
      "Approx 60% complete for ERR055765_1.fastq.gz\n",
      "Approx 65% complete for ERR055765_1.fastq.gz\n",
      "Approx 70% complete for ERR055765_1.fastq.gz\n",
      "Approx 75% complete for ERR055765_1.fastq.gz\n",
      "Approx 80% complete for ERR055765_1.fastq.gz\n",
      "Approx 85% complete for ERR055765_1.fastq.gz\n",
      "Approx 90% complete for ERR055765_1.fastq.gz\n",
      "Approx 95% complete for ERR055765_1.fastq.gz\n",
      "Analysis complete for ERR055765_1.fastq.gz\n"
     ]
    }
   ],
   "source": [
    "!mkdir ./files/step_1_ngs_quality_control/pre_QC\n",
    "!./files/step_1_ngs_quality_control/fastQC_software/FastQC/fastqc ./files/step_1_ngs_quality_control/ERR055765_1.fastq.gz --extract --delete --outdir ./files/step_1_ngs_quality_control/pre_QC"
   ]
  },
  {
   "cell_type": "markdown",
   "id": "190049a5",
   "metadata": {},
   "source": [
    "Here, we display a few graphs that are generally important to keep in mind."
   ]
  },
  {
   "attachments": {
    "per_base_quality.png": {
     "image/png": "[encoded data removed]"
    }
   },
   "cell_type": "markdown",
   "id": "87785c80",
   "metadata": {},
   "source": [
    "![per_base_quality.png](attachment:per_base_quality.png)"
   ]
  },
  {
   "attachments": {},
   "cell_type": "markdown",
   "id": "5620295d",
   "metadata": {},
   "source": [
    "*Per base sequence quality: shows the Phred quality score (Q score) of the sequence reads - the higher score the better. We observe the characteristic decay in quality that is common is most NGS runs. The score here shows that this NGS run is good with most base call's Phred score above the acceptable range (orange and green).*\n",
    "\n",
    "---"
   ]
  },
  {
   "attachments": {
    "per_sequence_quality.png": {
     "image/png": "[encoded data removed]"
    }
   },
   "cell_type": "markdown",
   "id": "a23ee870",
   "metadata": {},
   "source": [
    "![per_sequence_quality.png](attachment:per_sequence_quality.png)"
   ]
  },
  {
   "attachments": {},
   "cell_type": "markdown",
   "id": "391b2a29",
   "metadata": {},
   "source": [
    "*Per sequence quality score: shows the average Phred quality score distribution for all reads. It is better for the plotted line to peak on the right side standing for the higher Phred score. This run shows a high average Phred score.*\n",
    "\n",
    "---"
   ]
  },
  {
   "attachments": {
    "per_base_sequence_content.png": {
     "image/png": "[encoded data removed]"
    }
   },
   "cell_type": "markdown",
   "id": "0be73835",
   "metadata": {},
   "source": [
    "![per_base_sequence_content.png](attachment:per_base_sequence_content.png)"
   ]
  },
  {
   "attachments": {},
   "cell_type": "markdown",
   "id": "8eb0ee9d",
   "metadata": {},
   "source": [
    "*Per base sequence content: displays the proportion of each base at each position for all reads. In a random library from a normal genome, all bases should be represented roughly equally which translate to four (4) parallel lines in this plot. Deviation from this pattern can mean untrimmed adapters or other problems with library preparation. We observe the four parallel lines in this NGS run.*\n",
    "\n",
    "---"
   ]
  }
 ],
 "metadata": {
  "kernelspec": {
   "display_name": "Python 3 (ipykernel)",
   "language": "python",
   "name": "python3"
  },
  "language_info": {
   "codemirror_mode": {
    "name": "ipython",
    "version": 3
   },
   "file_extension": ".py",
   "mimetype": "text/x-python",
   "name": "python",
   "nbconvert_exporter": "python",
   "pygments_lexer": "ipython3",
   "version": "3.8.14"
  }
 },
 "nbformat": 4,
 "nbformat_minor": 5
}
